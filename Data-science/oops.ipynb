{
 "cells": [
  {
   "cell_type": "markdown",
   "id": "61d5a278",
   "metadata": {},
   "source": [
    "# oops"
   ]
  },
  {
   "cell_type": "code",
   "execution_count": null,
   "id": "3a7025dc",
   "metadata": {},
   "outputs": [
    {
     "name": "stdout",
     "output_type": "stream",
     "text": [
      "22\n",
      "raj\n",
      "run\n",
      "done\n"
     ]
    }
   ],
   "source": [
    "class PlayerCharater:\n",
    "    def __init__(self,name,age): #constructor\n",
    "        self.name=name #attributes\n",
    "        self.age=age\n",
    "    def run(self):#method\n",
    "        print(\"run\")\n",
    "        return \"done\"\n",
    "object1 = PlayerCharater(\"raj\",22)\n",
    "print(object1.age)\n",
    "print(object1.name)\n",
    "print(object1.run())"
   ]
  },
  {
   "cell_type": "markdown",
   "id": "c6e5f383",
   "metadata": {},
   "source": [
    "## class attributes  and instances attributes"
   ]
  },
  {
   "cell_type": "code",
   "execution_count": 8,
   "id": "6a3b4d3e",
   "metadata": {},
   "outputs": [
    {
     "name": "stdout",
     "output_type": "stream",
     "text": [
      "Fido\n",
      "species indian\n",
      "name Fido\n",
      "Dog is running\n",
      "None\n"
     ]
    }
   ],
   "source": [
    "class Dog :\n",
    "    species=\"indian\" #class attributes\n",
    "    def __init__(self):\n",
    "        self.name = \"Fido\" # instances attributes\n",
    "        self.age= 34\n",
    "    def run(self):\n",
    "        print(\"species\",Dog.species)# since species is a class variable it is easily accessable\n",
    "        # print(\"name\",Dog.name)#only class attributes are accessable by class name \n",
    "        print(\"name\",self.name)# instance attributes are only accessable by self \n",
    "        print(\"Dog is running\") \n",
    "dog1=Dog()\n",
    "print(dog1.name)\n",
    "print(dog1.run())\n",
    "\n"
   ]
  },
  {
   "cell_type": "code",
   "execution_count": 18,
   "id": "0a73b340",
   "metadata": {},
   "outputs": [
    {
     "name": "stdout",
     "output_type": "stream",
     "text": [
      "The oldest cat is 17 years old. cat name is tetu\n"
     ]
    }
   ],
   "source": [
    "class Cat:\n",
    "    species = 'mammal'\n",
    "    def __init__(self, name, age):\n",
    "        self.name = name\n",
    "        self.age = age\n",
    "\n",
    "\n",
    "# 1 Instantiate the Cat object with 3 cats\n",
    "cat1=Cat(\"tom\",4)\n",
    "cat2=Cat(\"tetu\",17)\n",
    "cat3=Cat(\"tinku\",8)\n",
    "catLis=[cat1,cat2,cat3]\n",
    "\n",
    "\n",
    "# 2 Create a function that finds the oldest cat\n",
    "def maxAge(li):\n",
    "    max=li[0]\n",
    "    for cat in li:\n",
    "        if cat.age > max.age:\n",
    "            max=cat\n",
    "    print(f\"The oldest cat is {max.age} years old. cat name is {max.name}\")\n",
    "\n",
    "maxAge(catLis)\n",
    "# 3 Print out: \"The oldest cat is x years old.\". x will be the oldest cat age by using the function in #2"
   ]
  },
  {
   "cell_type": "code",
   "execution_count": 21,
   "id": "efc413ce",
   "metadata": {},
   "outputs": [
    {
     "name": "stdout",
     "output_type": "stream",
     "text": [
      "[2, 4, 6, 8]\n",
      "[1, 2, 3, 4]\n"
     ]
    }
   ],
   "source": [
    "#map function\n",
    "li=[1,2,3,4]\n",
    "def fun(item):\n",
    "    return item*2\n",
    "print(list(map(fun,li)))\n",
    "print(li)"
   ]
  },
  {
   "cell_type": "code",
   "execution_count": 23,
   "id": "0b76172d",
   "metadata": {},
   "outputs": [
    {
     "name": "stdout",
     "output_type": "stream",
     "text": [
      "[1, 3, 5]\n"
     ]
    }
   ],
   "source": [
    "#filter\n",
    "def check(item):\n",
    "    return item%2!=0\n",
    "print(list(filter(check,[1,3,4,5,6])))"
   ]
  },
  {
   "cell_type": "code",
   "execution_count": 26,
   "id": "e43bda82",
   "metadata": {},
   "outputs": [
    {
     "name": "stdout",
     "output_type": "stream",
     "text": [
      "15\n"
     ]
    }
   ],
   "source": [
    "#reduce\n",
    "from functools import reduce \n",
    "def accumuter(acc,item):\n",
    "    return acc+item\n",
    "result = reduce(accumuter,[1,2,3,4,5],0)\n",
    "print(result)"
   ]
  },
  {
   "cell_type": "code",
   "execution_count": 37,
   "id": "f2e90c88",
   "metadata": {},
   "outputs": [
    {
     "name": "stdout",
     "output_type": "stream",
     "text": [
      "['SISI', 'BIBI', 'TITI', 'CARLA']\n",
      "[('a', 1), ('b', 2), ('c', 3), ('d', 4), ('e', 5)]\n",
      "[73, 65, 76, 100, 88]\n",
      "456\n"
     ]
    }
   ],
   "source": [
    "from functools import reduce\n",
    "\n",
    "#1 Capitalize all of the pet names and print the list\n",
    "my_pets = ['sisi', 'bibi', 'titi', 'carla']\n",
    "def capitalised(item):\n",
    "    return item.upper()\n",
    "print(list(map(capitalised,my_pets)))\n",
    "\n",
    "#2 Zip the 2 lists into a list of tuples, but sort the numbers from lowest to highest.\n",
    "my_strings = ['a', 'b', 'c', 'd', 'e']\n",
    "my_numbers = [5,4,3,2,1]\n",
    "my_numbers=sorted(my_numbers)\n",
    "\n",
    "print(list(zip(my_strings,my_numbers)))\n",
    "\n",
    "#3 Filter the scores that pass over 50%\n",
    "scores = [73, 20, 65, 19, 76, 100, 88]\n",
    "\n",
    "def ffunction(item):\n",
    "    return int(item) > 50\n",
    "print(list(filter(ffunction,scores)))\n",
    "#4 Combine all of the numbers that are in a list on this file using reduce (my_numbers and scores). What is the total?\n",
    "my_numbers.extend(scores)\n",
    "print(reduce(lambda x, y: x + y, my_numbers))\n"
   ]
  },
  {
   "cell_type": "code",
   "execution_count": 42,
   "id": "97762082",
   "metadata": {},
   "outputs": [
    {
     "name": "stdout",
     "output_type": "stream",
     "text": [
      "[(10, -1), (0, 2), (4, 3), (9, 9)]\n"
     ]
    }
   ],
   "source": [
    "li=[(0,2),(4,3),(9,9),(10,-1)]\n",
    "li.sort(key=lambda x:x[1])\n",
    "print(li)"
   ]
  },
  {
   "cell_type": "code",
   "execution_count": 48,
   "id": "5f9e9c1f",
   "metadata": {},
   "outputs": [
    {
     "name": "stdout",
     "output_type": "stream",
     "text": [
      "{0: 0, 1: 2, 2: 4, 3: 6, 4: 8}\n",
      "[2, 6, 10, 14, 18]\n"
     ]
    }
   ],
   "source": [
    "li= [x for x in range(0,10)]\n",
    "li= [x*2 for x in range(0,10) if x%2!=0]\n",
    "dic={x:x*2 for x in range(0,5)}\n",
    "print(dic)\n",
    "print(li)"
   ]
  },
  {
   "cell_type": "code",
   "execution_count": 54,
   "id": "2de4b3ae",
   "metadata": {},
   "outputs": [
    {
     "name": "stdout",
     "output_type": "stream",
     "text": [
      "['a', 'c']\n"
     ]
    }
   ],
   "source": [
    "#list comprehenssion\n",
    "lis=['a','b','c','c','d','a']\n",
    "l2=[]\n",
    "[l2.append(x) for x in lis  if lis.count(x)>1 and x not in l2]\n",
    "print(l2)\n"
   ]
  },
  {
   "cell_type": "code",
   "execution_count": null,
   "id": "d18c26fb",
   "metadata": {},
   "outputs": [
    {
     "name": "stdout",
     "output_type": "stream",
     "text": [
      "loggin\n",
      "None\n"
     ]
    }
   ],
   "source": [
    "# oops encapsulation class\n",
    "# abstraction _ for private variables\n",
    "#inheritance extend class by passing parent class as a parameter in to child class\n",
    "\n",
    "\n",
    "class User(): #parent class\n",
    "    def sign_in(self):\n",
    "        print('loggin')\n",
    "class Wizard(User): # child class\n",
    "    pass\n",
    "wizard1 = Wizard()\n",
    "print(wizard1.sign_in())"
   ]
  },
  {
   "cell_type": "code",
   "execution_count": 59,
   "id": "97a35524",
   "metadata": {},
   "outputs": [
    {
     "name": "stdout",
     "output_type": "stream",
     "text": [
      "meow is just walking around\n",
      "meow2 is just walking around\n",
      "meow3 is just walking around\n"
     ]
    }
   ],
   "source": [
    "#exercise\n",
    "class Pets():\n",
    "    animals = []\n",
    "    def __init__(self, animals):\n",
    "        self.animals = animals\n",
    "\n",
    "    def walk(self):\n",
    "        for animal in self.animals:\n",
    "            print(animal.walk())\n",
    "\n",
    "class Cat():\n",
    "    is_lazy = True\n",
    "\n",
    "    def __init__(self, name, age):\n",
    "        self.name = name\n",
    "        self.age = age\n",
    "\n",
    "    def walk(self):\n",
    "        return f'{self.name} is just walking around'\n",
    "\n",
    "class Simon(Cat):\n",
    "    def sing(self, sounds):\n",
    "        return f'{sounds}'\n",
    "\n",
    "class Sally(Cat):\n",
    "    def sing(self, sounds):\n",
    "        return f'{sounds}'\n",
    "class Tom(Cat):\n",
    "    def sing(self, sounds):\n",
    "        return f'{sounds}'\n",
    "#1 Add nother Cat\n",
    "\n",
    "#2 Create a list of all of the pets (create 3 cat instances from the above)\n",
    "my_cats = [ Simon('meow',10),Sally('meow2',5),Tom('meow3',3)]\n",
    "\n",
    "#3 Instantiate the Pet class with all your cats use variable my_pets\n",
    "cat1=Pets(my_cats)\n",
    "#4 Output all of the cats walking using the my_pets instance\n",
    "cat1.walk()"
   ]
  },
  {
   "cell_type": "code",
   "execution_count": 64,
   "id": "f04461cf",
   "metadata": {},
   "outputs": [
    {
     "name": "stdout",
     "output_type": "stream",
     "text": [
      "1\n",
      "None\n",
      "5\n",
      "[1, 2, 46, 9, 10]\n"
     ]
    }
   ],
   "source": [
    "#oops exiercise\n",
    "\n",
    "class SuperList():\n",
    "    def __init__(self, *args):\n",
    "        self.list = list(args)\n",
    "    def __len__(self):\n",
    "        return len(self.list)\n",
    "    def __getitem__(self, index):\n",
    "        return self.list[index]\n",
    "    def append(self,item):\n",
    "        self.list.append(item)\n",
    "superList1=SuperList(1,2,46,9)\n",
    "print(superList1[0])\n",
    "print(superList1.append(10))\n",
    "print(len(superList1))\n",
    "print(superList1.list)\n"
   ]
  },
  {
   "cell_type": "code",
   "execution_count": 66,
   "id": "f7f4171e",
   "metadata": {},
   "outputs": [
    {
     "name": "stdout",
     "output_type": "stream",
     "text": [
      "1\n",
      "[<class '__main__.D'>, <class '__main__.B'>, <class '__main__.C'>, <class '__main__.A'>, <class 'object'>]\n"
     ]
    }
   ],
   "source": [
    "#mro Method resolution order\n",
    "class A():\n",
    "    num=10\n",
    "class B(A):\n",
    "    pass\n",
    "class C(A):\n",
    "    num=1\n",
    "class D(B,C):\n",
    "    pass\n",
    "s=D()\n",
    "print(s.num)\n",
    "print(D.mro()) #Method resolution order"
   ]
  },
  {
   "cell_type": "code",
   "execution_count": 73,
   "id": "4b66ae92",
   "metadata": {},
   "outputs": [
    {
     "name": "stdout",
     "output_type": "stream",
     "text": [
      "Counter({5: 2, 1: 1, 22: 1, 3: 1, 4: 1, 89: 1})\n",
      "Counter({'s': 2, 'a': 1, 'k': 1, 'h': 1, 'i': 1})\n"
     ]
    }
   ],
   "source": [
    "# collections, dateTime, time modeules\n",
    "# import datetime\n",
    "# print(datetime.date.today())\n",
    "# print(datetime.time(23,4,1))\n",
    "# print(datetime.datetime.now())\n",
    "from collections import  Counter,OrderedDict\n",
    "print(Counter([1,22,3,4,5,5,89]))\n",
    "print(Counter(\"sakshi\"))"
   ]
  },
  {
   "cell_type": "code",
   "execution_count": 75,
   "id": "737c4959",
   "metadata": {},
   "outputs": [
    {
     "name": "stdout",
     "output_type": "stream",
     "text": [
      "> \u001b[0;32m/tmp/ipykernel_247711/2854217024.py\u001b[0m(5)\u001b[0;36madd\u001b[0;34m()\u001b[0m\n",
      "\u001b[0;32m      3 \u001b[0;31m\u001b[0;32mdef\u001b[0m \u001b[0madd\u001b[0m\u001b[0;34m(\u001b[0m\u001b[0ma\u001b[0m\u001b[0;34m,\u001b[0m\u001b[0mb\u001b[0m\u001b[0;34m)\u001b[0m\u001b[0;34m:\u001b[0m\u001b[0;34m\u001b[0m\u001b[0;34m\u001b[0m\u001b[0m\n",
      "\u001b[0m\u001b[0;32m      4 \u001b[0;31m    \u001b[0mpdb\u001b[0m\u001b[0;34m.\u001b[0m\u001b[0mset_trace\u001b[0m\u001b[0;34m(\u001b[0m\u001b[0;34m)\u001b[0m\u001b[0;34m\u001b[0m\u001b[0;34m\u001b[0m\u001b[0m\n",
      "\u001b[0m\u001b[0;32m----> 5 \u001b[0;31m    \u001b[0mtemp\u001b[0m\u001b[0;34m=\u001b[0m\u001b[0;36m1\u001b[0m\u001b[0;34m+\u001b[0m\u001b[0;36m2\u001b[0m\u001b[0;34m\u001b[0m\u001b[0;34m\u001b[0m\u001b[0m\n",
      "\u001b[0m\u001b[0;32m      6 \u001b[0;31m    \u001b[0;32mreturn\u001b[0m \u001b[0ma\u001b[0m\u001b[0;34m+\u001b[0m\u001b[0mb\u001b[0m\u001b[0;34m\u001b[0m\u001b[0;34m\u001b[0m\u001b[0m\n",
      "\u001b[0m\u001b[0;32m      7 \u001b[0;31m\u001b[0madd\u001b[0m\u001b[0;34m(\u001b[0m\u001b[0;36m1\u001b[0m\u001b[0;34m,\u001b[0m\u001b[0;34m\"hjk\"\u001b[0m\u001b[0;34m)\u001b[0m\u001b[0;34m\u001b[0m\u001b[0;34m\u001b[0m\u001b[0m\n",
      "\u001b[0m\n"
     ]
    },
    {
     "name": "stdout",
     "output_type": "stream",
     "text": [
      "> \u001b[0;32m/tmp/ipykernel_247711/2854217024.py\u001b[0m(6)\u001b[0;36madd\u001b[0;34m()\u001b[0m\n",
      "\u001b[0;32m      3 \u001b[0;31m\u001b[0;32mdef\u001b[0m \u001b[0madd\u001b[0m\u001b[0;34m(\u001b[0m\u001b[0ma\u001b[0m\u001b[0;34m,\u001b[0m\u001b[0mb\u001b[0m\u001b[0;34m)\u001b[0m\u001b[0;34m:\u001b[0m\u001b[0;34m\u001b[0m\u001b[0;34m\u001b[0m\u001b[0m\n",
      "\u001b[0m\u001b[0;32m      4 \u001b[0;31m    \u001b[0mpdb\u001b[0m\u001b[0;34m.\u001b[0m\u001b[0mset_trace\u001b[0m\u001b[0;34m(\u001b[0m\u001b[0;34m)\u001b[0m\u001b[0;34m\u001b[0m\u001b[0;34m\u001b[0m\u001b[0m\n",
      "\u001b[0m\u001b[0;32m      5 \u001b[0;31m    \u001b[0mtemp\u001b[0m\u001b[0;34m=\u001b[0m\u001b[0;36m1\u001b[0m\u001b[0;34m+\u001b[0m\u001b[0;36m2\u001b[0m\u001b[0;34m\u001b[0m\u001b[0;34m\u001b[0m\u001b[0m\n",
      "\u001b[0m\u001b[0;32m----> 6 \u001b[0;31m    \u001b[0;32mreturn\u001b[0m \u001b[0ma\u001b[0m\u001b[0;34m+\u001b[0m\u001b[0mb\u001b[0m\u001b[0;34m\u001b[0m\u001b[0;34m\u001b[0m\u001b[0m\n",
      "\u001b[0m\u001b[0;32m      7 \u001b[0;31m\u001b[0madd\u001b[0m\u001b[0;34m(\u001b[0m\u001b[0;36m1\u001b[0m\u001b[0;34m,\u001b[0m\u001b[0;34m\"hjk\"\u001b[0m\u001b[0;34m)\u001b[0m\u001b[0;34m\u001b[0m\u001b[0;34m\u001b[0m\u001b[0m\n",
      "\u001b[0m\n",
      "a = 1\n",
      "b = 'hjk'\n",
      "TypeError: unsupported operand type(s) for +: 'int' and 'str'\n",
      "> \u001b[0;32m/tmp/ipykernel_247711/2854217024.py\u001b[0m(6)\u001b[0;36madd\u001b[0;34m()\u001b[0m\n",
      "\u001b[0;32m      3 \u001b[0;31m\u001b[0;32mdef\u001b[0m \u001b[0madd\u001b[0m\u001b[0;34m(\u001b[0m\u001b[0ma\u001b[0m\u001b[0;34m,\u001b[0m\u001b[0mb\u001b[0m\u001b[0;34m)\u001b[0m\u001b[0;34m:\u001b[0m\u001b[0;34m\u001b[0m\u001b[0;34m\u001b[0m\u001b[0m\n",
      "\u001b[0m\u001b[0;32m      4 \u001b[0;31m    \u001b[0mpdb\u001b[0m\u001b[0;34m.\u001b[0m\u001b[0mset_trace\u001b[0m\u001b[0;34m(\u001b[0m\u001b[0;34m)\u001b[0m\u001b[0;34m\u001b[0m\u001b[0;34m\u001b[0m\u001b[0m\n",
      "\u001b[0m\u001b[0;32m      5 \u001b[0;31m    \u001b[0mtemp\u001b[0m\u001b[0;34m=\u001b[0m\u001b[0;36m1\u001b[0m\u001b[0;34m+\u001b[0m\u001b[0;36m2\u001b[0m\u001b[0;34m\u001b[0m\u001b[0;34m\u001b[0m\u001b[0m\n",
      "\u001b[0m\u001b[0;32m----> 6 \u001b[0;31m    \u001b[0;32mreturn\u001b[0m \u001b[0ma\u001b[0m\u001b[0;34m+\u001b[0m\u001b[0mb\u001b[0m\u001b[0;34m\u001b[0m\u001b[0;34m\u001b[0m\u001b[0m\n",
      "\u001b[0m\u001b[0;32m      7 \u001b[0;31m\u001b[0madd\u001b[0m\u001b[0;34m(\u001b[0m\u001b[0;36m1\u001b[0m\u001b[0;34m,\u001b[0m\u001b[0;34m\"hjk\"\u001b[0m\u001b[0;34m)\u001b[0m\u001b[0;34m\u001b[0m\u001b[0;34m\u001b[0m\u001b[0m\n",
      "\u001b[0m\n"
     ]
    }
   ],
   "source": [
    "import pdb\n",
    "\n",
    "def add(a,b):\n",
    "    pdb.set_trace()\n",
    "    temp=1+2\n",
    "    return a+b \n",
    "add(1,\"hjk\")"
   ]
  },
  {
   "cell_type": "code",
   "execution_count": 81,
   "id": "af888031",
   "metadata": {},
   "outputs": [
    {
     "name": "stdout",
     "output_type": "stream",
     "text": [
      "# # from exmaple1.example2.utility import add\n",
      "\n",
      "# import os\n",
      "\n"
     ]
    }
   ],
   "source": [
    "practice=open('../../main.py')\n",
    "print(practice.readline())\n",
    "print(practice.readline())# cursor moved to next line\n",
    "\n",
    "practice.close()"
   ]
  },
  {
   "cell_type": "code",
   "execution_count": 86,
   "id": "b36252fd",
   "metadata": {},
   "outputs": [
    {
     "name": "stdout",
     "output_type": "stream",
     "text": [
      "file not found\n"
     ]
    }
   ],
   "source": [
    "try:\n",
    " with open(\"abc1.tst\",'r') as f:\n",
    "    f.write(\":(\")\n",
    "except:\n",
    "  print(\"file not found\")"
   ]
  },
  {
   "cell_type": "code",
   "execution_count": null,
   "id": "0c042fc5",
   "metadata": {},
   "outputs": [],
   "source": []
  }
 ],
 "metadata": {
  "kernelspec": {
   "display_name": "newvirtual",
   "language": "python",
   "name": "python3"
  },
  "language_info": {
   "codemirror_mode": {
    "name": "ipython",
    "version": 3
   },
   "file_extension": ".py",
   "mimetype": "text/x-python",
   "name": "python",
   "nbconvert_exporter": "python",
   "pygments_lexer": "ipython3",
   "version": "3.10.12"
  }
 },
 "nbformat": 4,
 "nbformat_minor": 5
}
