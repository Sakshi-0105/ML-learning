{
 "cells": [
  {
   "cell_type": "markdown",
   "id": "1ae76fb6",
   "metadata": {},
   "source": [
    "hello\n"
   ]
  },
  {
   "cell_type": "code",
   "execution_count": null,
   "id": "6d51b934",
   "metadata": {},
   "outputs": [],
   "source": [
    "print(\"hello\")"
   ]
  },
  {
   "cell_type": "code",
   "execution_count": null,
   "id": "d404bc74",
   "metadata": {},
   "outputs": [],
   "source": [
    "round(3.6)"
   ]
  },
  {
   "cell_type": "code",
   "execution_count": null,
   "id": "300ab30a",
   "metadata": {},
   "outputs": [],
   "source": [
    "print(\"h's\"+5)"
   ]
  },
  {
   "cell_type": "code",
   "execution_count": 27,
   "id": "55d082e6",
   "metadata": {},
   "outputs": [
    {
     "name": "stdout",
     "output_type": "stream",
     "text": [
      "<class 'str'>\n",
      "100\n"
     ]
    }
   ],
   "source": [
    "print(type(str(100)))\n",
    "print(str(100))"
   ]
  },
  {
   "cell_type": "code",
   "execution_count": null,
   "id": "99742d31",
   "metadata": {},
   "outputs": [],
   "source": [
    "print('''it's \\ a \"kind of\" sunny day''')"
   ]
  },
  {
   "cell_type": "code",
   "execution_count": 31,
   "id": "bb742f43",
   "metadata": {},
   "outputs": [
    {
     "name": "stdout",
     "output_type": "stream",
     "text": [
      "5\n",
      "hiii\n",
      "hii sakhi your age is 22\n"
     ]
    }
   ],
   "source": [
    "name=input(\"ur name\")\n",
    "print(len(name))\n",
    "age=22\n",
    "print(\"hiii\")\n",
    "print(f'hii {name} your age is {age}')"
   ]
  },
  {
   "cell_type": "code",
   "execution_count": 34,
   "id": "89852cca",
   "metadata": {},
   "outputs": [
    {
     "name": "stdout",
     "output_type": "stream",
     "text": [
      "your age is 15\n"
     ]
    }
   ],
   "source": [
    "age=int(input(\"birth year please\"))\n",
    "print(\"your age is\",2024-age)"
   ]
  },
  {
   "cell_type": "code",
   "execution_count": 36,
   "id": "38fa3afe",
   "metadata": {},
   "outputs": [
    {
     "name": "stdout",
     "output_type": "stream",
     "text": [
      "hii sakshi ur secret is 6 long and password is ******\n"
     ]
    }
   ],
   "source": [
    "name=input(\"ur name please\")\n",
    "secret=input (\"ur secret\")\n",
    "print(f'hii {name} ur secret is {len(secret)} long and password is {len(secret)*\"*\"}')"
   ]
  },
  {
   "cell_type": "code",
   "execution_count": null,
   "id": "2b3ce849",
   "metadata": {},
   "outputs": [
    {
     "name": "stdout",
     "output_type": "stream",
     "text": [
      "hloti\n",
      "['hii', 3, True]\n"
     ]
    }
   ],
   "source": [
    "string=\"hello this is sakshi\"\n",
    "print(string[:10:2])\n",
    "li1=[\"hii\",1,3,4,True]\n",
    "print(li1[0::2])"
   ]
  },
  {
   "cell_type": "code",
   "execution_count": 5,
   "id": "736ae766",
   "metadata": {},
   "outputs": [
    {
     "name": "stdout",
     "output_type": "stream",
     "text": [
      "[1, 2, 2, 2, 3, 4, 5, 22, 100]\n"
     ]
    }
   ],
   "source": [
    "l1=[1,2,22,2,2,3,4,5]\n",
    "l1.append(100)\n",
    "l1.sort()\n",
    "print(l1)"
   ]
  },
  {
   "cell_type": "code",
   "execution_count": 11,
   "id": "d8dd5894",
   "metadata": {},
   "outputs": [
    {
     "name": "stdout",
     "output_type": "stream",
     "text": [
      "False\n"
     ]
    }
   ],
   "source": [
    "print(\"truee\") if False else print(\"False\")  "
   ]
  },
  {
   "cell_type": "code",
   "execution_count": 12,
   "metadata": {},
   "outputs": [
    {
     "name": "stdout",
     "output_type": "stream",
     "text": [
      "1 2 6 [2, 4, 5, 6]\n"
     ]
    }
   ],
   "source": [
    "a,b,*something,c=[1,2,2,4,5,6,6,]\n",
    "print(a,b,c,something)"
   ]
  },
  {
   "cell_type": "code",
   "execution_count": 21,
   "id": "a92b0fc8",
   "metadata": {},
   "outputs": [
    {
     "name": "stdout",
     "output_type": "stream",
     "text": [
      "hii\n"
     ]
    }
   ],
   "source": [
    "sa=1\n",
    "sa=\"hii\"\n",
    "print(sa)"
   ]
  },
  {
   "cell_type": "code",
   "execution_count": 26,
   "id": "35a993f0",
   "metadata": {},
   "outputs": [
    {
     "name": "stdout",
     "output_type": "stream",
     "text": [
      "8\n"
     ]
    }
   ],
   "source": [
    "dictionary={\n",
    "    \"name\": \"John\",\n",
    "    \"age\": 30,\n",
    "    \"city\": \"New York\"\n",
    "}\n",
    "print(dictionary.get('ageq',8))"
   ]
  },
  {
   "cell_type": "code",
   "execution_count": 37,
   "id": "c9f1a068",
   "metadata": {},
   "outputs": [
    {
     "name": "stdout",
     "output_type": "stream",
     "text": [
      "{'name': 'hii', 'age': 20, 'city': 'delhi', '78': '232'}\n",
      "False\n",
      "{'name': 'hii', 'age': 20, 'city': 'delhi', '78': '232'}\n"
     ]
    }
   ],
   "source": [
    "user={\n",
    "    \"name\":\"hii\",\n",
    "    \"age\":20,\n",
    "    \"city\":\"delhi\"\n",
    "    }\n",
    "user2=user\n",
    "user2[\"78\"]=\"232\"\n",
    "print(user)\n",
    "print(\"name1\" in user)\n",
    "print(user2)\n",
    "# print(type(user.keys()))\n",
    "# print(user.values())\n",
    "# print(user.items())"
   ]
  },
  {
   "cell_type": "code",
   "execution_count": 40,
   "id": "4ab9c840",
   "metadata": {},
   "outputs": [
    {
     "name": "stdout",
     "output_type": "stream",
     "text": [
      "{1, 2, 445, 223}\n"
     ]
    }
   ],
   "source": [
    "st={1,223,445,2,2,}\n",
    "print(st)"
   ]
  },
  {
   "cell_type": "code",
   "execution_count": 47,
   "id": "766a7884",
   "metadata": {},
   "outputs": [
    {
     "name": "stdout",
     "output_type": "stream",
     "text": [
      "False\n",
      "False\n",
      "{2, 3}\n",
      "{2, 3, 5, 6}\n"
     ]
    }
   ],
   "source": [
    "s1={1,2,3}\n",
    "s2={4,5,6,1}\n",
    "s1.add(4)\n",
    "print( 5 in s1)\n",
    "print(s1.isdisjoint(s2))\n",
    "print(s1.difference(s2))\n",
    "print(s1.difference(s2).union(s2.difference(s1)))"
   ]
  },
  {
   "cell_type": "markdown",
   "id": "3c6cd466",
   "metadata": {},
   "source": [
    "#conditional statemet"
   ]
  },
  {
   "cell_type": "code",
   "execution_count": 52,
   "id": "6750bbd1",
   "metadata": {},
   "outputs": [
    {
     "name": "stdout",
     "output_type": "stream",
     "text": [
      "You are licenced\n"
     ]
    }
   ],
   "source": [
    "is_old=False\n",
    "is_licenced=True\n",
    "if is_old:\n",
    "    print(\"You are old\")\n",
    "elif is_licenced:\n",
    "    print(\"You are licenced\")\n",
    "else:\n",
    "    print('checked by else')"
   ]
  },
  {
   "cell_type": "code",
   "execution_count": 53,
   "id": "9dc10dec",
   "metadata": {},
   "outputs": [
    {
     "name": "stdout",
     "output_type": "stream",
     "text": [
      "You are licenced\n"
     ]
    }
   ],
   "source": [
    "is_old=False\n",
    "is_licenced=True\n",
    "if is_old and is_licenced:\n",
    "    print(\"You are old\")\n",
    "elif is_licenced:\n",
    "    print(\"You are licenced\")\n",
    "else:\n",
    "    print('checked by else')"
   ]
  },
  {
   "cell_type": "markdown",
   "id": "25e0a178",
   "metadata": {},
   "source": [
    "#truthy and falsy"
   ]
  },
  {
   "cell_type": "code",
   "execution_count": 59,
   "id": "bdd0190d",
   "metadata": {},
   "outputs": [
    {
     "name": "stdout",
     "output_type": "stream",
     "text": [
      "You are old\n"
     ]
    }
   ],
   "source": [
    "is_old=\"hii\"\n",
    "is_licenced=None\n",
    "if is_old:\n",
    "    print(\"You are old\")\n",
    "elif is_licenced:\n",
    "    print(\"You are licenced\")\n",
    "else:\n",
    "    print('checked by else')"
   ]
  },
  {
   "cell_type": "markdown",
   "id": "6844a12b",
   "metadata": {},
   "source": [
    "# ternary operator"
   ]
  },
  {
   "cell_type": "code",
   "execution_count": 62,
   "id": "6c933caa",
   "metadata": {},
   "outputs": [
    {
     "name": "stdout",
     "output_type": "stream",
     "text": [
      "none\n",
      "auto_asign is false\n"
     ]
    }
   ],
   "source": [
    "auto_asign=False\n",
    "name=\"sakshi\" if auto_asign else \"none\"\n",
    "print(name)\n",
    "print(\"auto_asign is true\") if auto_asign else print(\"auto_asign is false\")"
   ]
  },
  {
   "cell_type": "markdown",
   "id": "7d1c5fce",
   "metadata": {},
   "source": [
    "##exercise"
   ]
  },
  {
   "cell_type": "code",
   "execution_count": null,
   "id": "99ddb67c",
   "metadata": {},
   "outputs": [
    {
     "name": "stdout",
     "output_type": "stream",
     "text": [
      "You are not a magician.\n"
     ]
    }
   ],
   "source": [
    "is_magician=False\n",
    "is_expert=False\n",
    "if is_magician and is_expert:\n",
    "    print(\"You are a magician and an expert!\")\n",
    "elif is_magician and  not is_expert:\n",
    "    print(\"You are a magician but not an expert.\")\n",
    "elif not(is_magician):\n",
    "    print(\"You are not a magician.\")"
   ]
  },
  {
   "cell_type": "markdown",
   "id": "23cfa16d",
   "metadata": {},
   "source": [
    "# is vs =="
   ]
  },
  {
   "cell_type": "code",
   "execution_count": 83,
   "id": "a4724480",
   "metadata": {},
   "outputs": [
    {
     "name": "stdout",
     "output_type": "stream",
     "text": [
      "True\n",
      "[]==[] False\n",
      "[1,2,3]==[1,2,3] True\n",
      "''==0 False\n",
      "True\n",
      "1==True True\n"
     ]
    }
   ],
   "source": [
    "print([]==[])\n",
    "print(\"[]==[]\",[] is [])\n",
    "print(\"[1,2,3]==[1,2,3]\",[1,2,3] == [1,2,3])\n",
    "print(\"''==0\",''==0)\n",
    "print('1'== '1')\n",
    "print(\"1==True\",1==True)"
   ]
  },
  {
   "cell_type": "code",
   "execution_count": 84,
   "id": "faeead20",
   "metadata": {},
   "outputs": [
    {
     "name": "stdout",
     "output_type": "stream",
     "text": [
      "sakshi:name\n",
      "20:age\n",
      "delhi:city\n"
     ]
    }
   ],
   "source": [
    "dic={\n",
    "    \"name\":\"sakshi\",\n",
    "    \"age\":20,\n",
    "    \"city\":\"delhi\"\n",
    "\n",
    "}\n",
    "for item,key in dic.items():\n",
    "    print(f\"{key}:{item}\")"
   ]
  },
  {
   "cell_type": "code",
   "execution_count": 85,
   "id": "17c8239f",
   "metadata": {},
   "outputs": [
    {
     "name": "stdout",
     "output_type": "stream",
     "text": [
      "45\n"
     ]
    }
   ],
   "source": [
    "lis=[1,2,3,4,5,6,7,8,9]\n",
    "result=0\n",
    "for item in lis:\n",
    "    result+=item\n",
    "print(result)"
   ]
  },
  {
   "cell_type": "code",
   "execution_count": 93,
   "id": "1f6f6159",
   "metadata": {},
   "outputs": [
    {
     "name": "stdout",
     "output_type": "stream",
     "text": [
      "   *   \n",
      "  ***  \n",
      " ***** \n",
      "*******\n",
      "   *   \n",
      "   *   \n",
      "   *   \n",
      "   *   \n",
      "  ***  \n",
      " ***** \n",
      "*******\n",
      "   *   \n",
      "   *   \n",
      "   *   \n"
     ]
    }
   ],
   "source": [
    "pikcel=[\n",
    "    [0,0,0,1,0,0,0],\n",
    "    [0,0,1,1,1,0,0],\n",
    "    [0,1,1,1,1,1,0],\n",
    "    [1,1,1,1,1,1,1],\n",
    "    [0,0,0,1,0,0,0],\n",
    "    [0,0,0,1,0,0,0],\n",
    "    [0,0,0,1,0,0,0],\n",
    "]\n",
    "def show_tree():\n",
    " for row in pikcel:\n",
    "    for p in row:\n",
    "        if p==1:\n",
    "            print(\"*\",end='')\n",
    "        else:\n",
    "            print(\" \",end='')\n",
    "    print('')#need new line after rows\n",
    "show_tree() \n",
    "show_tree()   "
   ]
  },
  {
   "cell_type": "markdown",
   "id": "76787d8c",
   "metadata": {},
   "source": [
    "# functions and parameters and arguments"
   ]
  },
  {
   "cell_type": "code",
   "execution_count": 91,
   "id": "a7df88fe",
   "metadata": {},
   "outputs": [
    {
     "name": "stdout",
     "output_type": "stream",
     "text": [
      "c\n",
      "d\n",
      "['c', 'd']\n"
     ]
    }
   ],
   "source": [
    "l1=['a','b','c','c','d','e','d']\n",
    "l2=[]\n",
    "for i in l1:\n",
    "    if(l1.count(i)>1):\n",
    "        if i not in l2:\n",
    "            l2.append(i)\n",
    "            print(i)\n",
    "\n",
    "print(l2)"
   ]
  },
  {
   "cell_type": "code",
   "execution_count": 94,
   "id": "7b64454e",
   "metadata": {},
   "outputs": [
    {
     "name": "stdout",
     "output_type": "stream",
     "text": [
      "Hello sakhsi, nice to meet you\n"
     ]
    }
   ],
   "source": [
    "def say_hello(name,msg):\n",
    "    print(f\"Hello {name}, {msg}\")\n",
    "say_hello(\"sakhsi\",\"nice to meet you\")\n"
   ]
  },
  {
   "cell_type": "markdown",
   "id": "17ade084",
   "metadata": {},
   "source": [
    "# return\n"
   ]
  },
  {
   "cell_type": "code",
   "execution_count": 98,
   "id": "eb8cab65",
   "metadata": {},
   "outputs": [
    {
     "name": "stdout",
     "output_type": "stream",
     "text": [
      "3 5\n",
      "8\n"
     ]
    }
   ],
   "source": [
    "def sum(num1,num2):\n",
    "    def sum1():\n",
    "        print(num1,num2)\n",
    "        return num1+num2\n",
    "    return sum1\n",
    "sum1 = sum(3,5)\n",
    "print(sum1())"
   ]
  },
  {
   "cell_type": "markdown",
   "id": "c5b2ed55",
   "metadata": {},
   "source": [
    "## docString"
   ]
  },
  {
   "cell_type": "code",
   "execution_count": 100,
   "id": "0546bba6",
   "metadata": {},
   "outputs": [
    {
     "name": "stdout",
     "output_type": "stream",
     "text": [
      "ghjk\n",
      "this function is dummy function\n"
     ]
    }
   ],
   "source": [
    "def fun(a):\n",
    "    '''this function is dummy function'''\n",
    "    print(a)\n",
    "fun(\"ghjk\")\n",
    "print(fun.__doc__)"
   ]
  },
  {
   "cell_type": "markdown",
   "id": "3d6eeb3a",
   "metadata": {},
   "source": [
    "#*args and **kargs"
   ]
  },
  {
   "cell_type": "code",
   "execution_count": 110,
   "id": "293dd9c2",
   "metadata": {},
   "outputs": [
    {
     "name": "stdout",
     "output_type": "stream",
     "text": [
      "1 2 3 4 4\n",
      "{'name': 'dsdf', 'age': 'sdsf'}\n",
      "(1, 2, 3, 4, 4)\n"
     ]
    }
   ],
   "source": [
    "def fun(*args,**kargs):\n",
    "    print(*args)\n",
    "    print(kargs)\n",
    "    print(args)\n",
    "fun(1,2,3,4,4,name=\"dsdf\",age=\"sdsf\")"
   ]
  },
  {
   "cell_type": "markdown",
   "id": "f689bd5f",
   "metadata": {},
   "source": [
    "highest even\n"
   ]
  },
  {
   "cell_type": "code",
   "execution_count": 114,
   "id": "a6c7b3af",
   "metadata": {},
   "outputs": [
    {
     "name": "stdout",
     "output_type": "stream",
     "text": [
      "8\n"
     ]
    }
   ],
   "source": [
    "def highest_even(li):\n",
    "    \"\"\"Return the highest even number in the list.\"\"\"\n",
    "    max=0\n",
    "    for i in li:\n",
    "        if i%2==0 and i>max:\n",
    "            max=i\n",
    "    return max\n",
    "print(highest_even([1,2,3,49,5,6,7,8]))"
   ]
  },
  {
   "cell_type": "markdown",
   "id": "152c06f7",
   "metadata": {},
   "source": [
    "## walrus operator\n"
   ]
  },
  {
   "cell_type": "code",
   "execution_count": 119,
   "id": "b1f2697d",
   "metadata": {},
   "outputs": [
    {
     "name": "stdout",
     "output_type": "stream",
     "text": [
      "19\n"
     ]
    }
   ],
   "source": [
    "a=\"hellloooooooooooooo\"\n",
    "if((b:=len(a))>6):\n",
    "    print(b)"
   ]
  },
  {
   "cell_type": "markdown",
   "id": "ca032be8",
   "metadata": {},
   "source": [
    "scope"
   ]
  },
  {
   "cell_type": "code",
   "execution_count": 120,
   "id": "5569cfe2",
   "metadata": {},
   "outputs": [
    {
     "name": "stdout",
     "output_type": "stream",
     "text": [
      "10\n"
     ]
    }
   ],
   "source": [
    "if True:\n",
    "    a=10\n",
    "def fun():\n",
    "    print(a)\n",
    "fun()"
   ]
  },
  {
   "cell_type": "markdown",
   "id": "61dfa648",
   "metadata": {},
   "source": [
    "global\n"
   ]
  },
  {
   "cell_type": "code",
   "execution_count": 124,
   "id": "878be05c",
   "metadata": {},
   "outputs": [
    {
     "name": "stdout",
     "output_type": "stream",
     "text": [
      "1\n",
      "2\n"
     ]
    }
   ],
   "source": [
    "total=0\n",
    "def count():\n",
    "    global total\n",
    "    total+=1\n",
    "    return total\n",
    "print(count())\n",
    "print(count())"
   ]
  },
  {
   "cell_type": "code",
   "execution_count": 125,
   "id": "bc0c5ed2",
   "metadata": {},
   "outputs": [
    {
     "name": "stdout",
     "output_type": "stream",
     "text": [
      "3\n"
     ]
    }
   ],
   "source": [
    "#dependency injection\n",
    "total=0\n",
    "def count(total):\n",
    "    total+=1\n",
    "    return total\n",
    "print(count(count(count(total))))"
   ]
  },
  {
   "cell_type": "markdown",
   "id": "8a7665f5",
   "metadata": {},
   "source": [
    "non local"
   ]
  },
  {
   "cell_type": "code",
   "execution_count": 126,
   "id": "ac6ebb14",
   "metadata": {},
   "outputs": [
    {
     "name": "stdout",
     "output_type": "stream",
     "text": [
      "outer:  inner\n"
     ]
    }
   ],
   "source": [
    "def outer():\n",
    "    x=\"outer\"\n",
    "    def inner():\n",
    "        nonlocal x\n",
    "        x=\"inner\"\n",
    "    inner()\n",
    "    print(\"outer: \",x)\n",
    "outer()"
   ]
  }
 ],
 "metadata": {
  "kernelspec": {
   "display_name": "newvirtual",
   "language": "python",
   "name": "python3"
  },
  "language_info": {
   "codemirror_mode": {
    "name": "ipython",
    "version": 3
   },
   "file_extension": ".py",
   "mimetype": "text/x-python",
   "name": "python",
   "nbconvert_exporter": "python",
   "pygments_lexer": "ipython3",
   "version": "3.10.12"
  }
 },
 "nbformat": 4,
 "nbformat_minor": 5
}
