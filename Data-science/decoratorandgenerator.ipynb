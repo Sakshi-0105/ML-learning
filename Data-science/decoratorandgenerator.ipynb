{
 "cells": [
  {
   "cell_type": "code",
   "execution_count": 8,
   "id": "dfad0aa8",
   "metadata": {},
   "outputs": [
    {
     "name": "stdout",
     "output_type": "stream",
     "text": [
      "new func before\n",
      "func is called\n"
     ]
    }
   ],
   "source": [
    "## decorators\n",
    "def my_decorator(fun):\n",
    "    def new_fun():\n",
    "        print(\"new func before\")\n",
    "        fun()\n",
    "    return new_fun\n",
    "\n",
    "# def my_function():\n",
    "#     print(\"func is called\")\n",
    "\n",
    "# new1= my_decorator(my_function)\n",
    "# new1()\n",
    "\n",
    "@my_decorator\n",
    "def my_function():\n",
    "    print(\"func is called\")\n",
    "my_function()"
   ]
  },
  {
   "cell_type": "code",
   "execution_count": 10,
   "id": "d154ea14",
   "metadata": {},
   "outputs": [
    {
     "name": "stdout",
     "output_type": "stream",
     "text": [
      "the test run 2.654268503189087 seconds\n"
     ]
    }
   ],
   "source": [
    "#performance decorator\n",
    "from time import time\n",
    "def performance(func):\n",
    "    def wapper(*arg,**kargs):\n",
    "        t1=time()\n",
    "        func(*arg,**kargs)\n",
    "        t2=time()\n",
    "        print(f\"the {func.__name__} run {t2-t1} seconds\")\n",
    "    return wapper\n",
    "@performance\n",
    "def test():\n",
    "    for i in range(0,100000000):\n",
    "        i*2\n",
    "test()"
   ]
  },
  {
   "cell_type": "code",
   "execution_count": 24,
   "id": "0baf96c9",
   "metadata": {},
   "outputs": [
    {
     "name": "stdout",
     "output_type": "stream",
     "text": [
      "({'name': 'Sorna', 'valid': False},)\n",
      "You are not authenticated\n"
     ]
    }
   ],
   "source": [
    "# Create an @authenticated decorator that only allows the function to run is user1 has 'valid' set to True:\n",
    "user1 = {\n",
    "    'name': 'Sorna',\n",
    "    'valid': False #changing this will either run or not run the message_friends function.\n",
    "}\n",
    "\n",
    "def authenticated(fn):\n",
    "    def wrapper(*args, **kwargs):\n",
    "        print(args)\n",
    "        if args[0][\"valid\"] :\n",
    "            fn(*args, **kwargs)\n",
    "        else:\n",
    "            print(\"You are not authenticated\")\n",
    "    return wrapper\n",
    "\n",
    "  # code here\n",
    "\n",
    "@authenticated\n",
    "def message_friends(user):\n",
    "    print('message has been sent')\n",
    "\n",
    "message_friends(user1)"
   ]
  },
  {
   "cell_type": "code",
   "execution_count": 30,
   "id": "9a7fc8c9",
   "metadata": {},
   "outputs": [
    {
     "name": "stdout",
     "output_type": "stream",
     "text": [
      "function myfun took 2.558393955230713 seconds to run\n",
      "function myfun2 took 5.117044448852539 seconds to run\n"
     ]
    }
   ],
   "source": [
    "##generators\n",
    "\n",
    "def generator(num):\n",
    "    for i in range(num):\n",
    "        yield i*2 ## stopping the execution of this function\n",
    "\n",
    "# for i in generator(10):\n",
    "#     print(i)\n",
    "\n",
    "from time import time\n",
    "def performance(fun):\n",
    "    def wrapper(*arg,**karg):\n",
    "\n",
    "        start = time()\n",
    "        fun(*arg,**karg)\n",
    "        end=time()\n",
    "        print(f\"function {fun.__name__} took {end-start} seconds to run\")\n",
    "    return wrapper\n",
    "\n",
    "@performance\n",
    "def myfun():\n",
    "    for i in range(100000000):\n",
    "        i*2\n",
    "@performance\n",
    "def myfun2():\n",
    "    for i in list(range(100000000)):\n",
    "        i*2\n",
    "\n",
    "myfun()## generator\n",
    "myfun2()"
   ]
  },
  {
   "cell_type": "code",
   "execution_count": 32,
   "id": "807fc955",
   "metadata": {},
   "outputs": [
    {
     "name": "stdout",
     "output_type": "stream",
     "text": [
      "0\n",
      "1\n",
      "2\n",
      "3\n",
      "4\n",
      "5\n",
      "6\n",
      "7\n",
      "8\n",
      "9\n"
     ]
    }
   ],
   "source": [
    "# own range\n",
    "class ownRange:\n",
    "    current=0\n",
    "    def __init__(self, start, end):\n",
    "        self.start=start\n",
    "        self.end=end\n",
    "    def __iter__(self):\n",
    "        return self\n",
    "    def __next__(self):\n",
    "        if self.current<self.end:\n",
    "            num =self.current\n",
    "            self.current+=1\n",
    "            return num\n",
    "        raise StopIteration\n",
    "orange=ownRange(0,10)\n",
    "for i in orange:\n",
    "    print(i)"
   ]
  },
  {
   "cell_type": "code",
   "execution_count": 33,
   "id": "1dcdf93f",
   "metadata": {},
   "outputs": [
    {
     "name": "stdout",
     "output_type": "stream",
     "text": [
      "<list_iterator object at 0x79e5846567d0>\n",
      "1\n",
      "<list_iterator object at 0x79e5846567d0>\n",
      "2\n",
      "<list_iterator object at 0x79e5846567d0>\n",
      "3\n",
      "<list_iterator object at 0x79e5846567d0>\n"
     ]
    }
   ],
   "source": [
    "def my_range(li):\n",
    "    \n",
    "        iterate=iter(li)\n",
    "        while True:\n",
    "         try:\n",
    "            print(iterate)\n",
    "            print(next(iterate))\n",
    "         except StopIteration:\n",
    "                 break\n",
    "my_range([1,2,3])"
   ]
  },
  {
   "cell_type": "code",
   "execution_count": 39,
   "id": "870d709f",
   "metadata": {},
   "outputs": [
    {
     "name": "stdout",
     "output_type": "stream",
     "text": [
      "0\n",
      "1\n",
      "1\n",
      "2\n",
      "3\n",
      "5\n",
      "8\n",
      "13\n",
      "21\n",
      "34\n"
     ]
    }
   ],
   "source": [
    "#fabonacci series\n",
    "def fabonacci(n):\n",
    "    num1=0\n",
    "    num2=1\n",
    "    for  n in range(0,n):\n",
    "        yield num1\n",
    "        # print(num2)\n",
    "        t=num1\n",
    "        num1=num2\n",
    "        num2=t+num2\n",
    "        n-=1\n",
    "\n",
    "for i in fabonacci(10):\n",
    "    print(i)"
   ]
  },
  {
   "cell_type": "code",
   "execution_count": 41,
   "id": "00538574",
   "metadata": {},
   "outputs": [
    {
     "name": "stdout",
     "output_type": "stream",
     "text": [
      "2002,2009,2016,2023,2037,2044,2051,2058,2072,2079,2086,2093,2107,2114,2121,2128,2142,2149,2156,2163,2177,2184,2191,2198,2212,2219,2226,2233,2247,2254,2261,2268,2282,2289,2296,2303,2317,2324,2331,2338,2352,2359,2366,2373,2387,2394,2401,2408,2422,2429,2436,2443,2457,2464,2471,2478,2492,2499,2506,2513,2527,2534,2541,2548,2562,2569,2576,2583,2597,2604,2611,2618,2632,2639,2646,2653,2667,2674,2681,2688,2702,2709,2716,2723,2737,2744,2751,2758,2772,2779,2786,2793,2807,2814,2821,2828,2842,2849,2856,2863,2877,2884,2891,2898,2912,2919,2926,2933,2947,2954,2961,2968,2982,2989,2996,3003,3017,3024,3031,3038,3052,3059,3066,3073,3087,3094,3101,3108,3122,3129,3136,3143,3157,3164,3171,3178,3192,3199\n"
     ]
    }
   ],
   "source": [
    "result=[]\n",
    "for i in range(2000,3200):\n",
    "    if i%7==0 and i%5!=0:\n",
    "        result.append(str(i))\n",
    "print(\",\".join(result))"
   ]
  }
 ],
 "metadata": {
  "kernelspec": {
   "display_name": "newvirtual",
   "language": "python",
   "name": "python3"
  },
  "language_info": {
   "codemirror_mode": {
    "name": "ipython",
    "version": 3
   },
   "file_extension": ".py",
   "mimetype": "text/x-python",
   "name": "python",
   "nbconvert_exporter": "python",
   "pygments_lexer": "ipython3",
   "version": "3.10.12"
  }
 },
 "nbformat": 4,
 "nbformat_minor": 5
}
